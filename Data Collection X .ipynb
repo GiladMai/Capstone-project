{
 "cells": [
  {
   "cell_type": "code",
   "execution_count": 4,
   "id": "2aadf842-ebec-4c2c-8661-0d82765bdfe4",
   "metadata": {
    "tags": []
   },
   "outputs": [],
   "source": [
    "# Import necessary libraries\n",
    "import requests\n",
    "import pandas as pd\n",
    "import numpy as np\n",
    "import datetime\n"
   ]
  },
  {
   "cell_type": "code",
   "execution_count": 5,
   "id": "f4144195-48b9-4c97-8adb-44a649abe239",
   "metadata": {},
   "outputs": [],
   "source": [
    "\n",
    "# Setting display options\n",
    "pd.set_option('display.max_columns', None)\n",
    "pd.set_option('display.max_colwidth', None)\n",
    "\n",
    "# Define functions to make API calls and populate lists\n"
   ]
  },
  {
   "cell_type": "code",
   "execution_count": 6,
   "id": "e5d1769a-6f8a-46cc-9285-a854f229b977",
   "metadata": {},
   "outputs": [],
   "source": [
    "\n",
    "def getBoosterVersion(data):\n",
    "    for x in data['rocket']:\n",
    "        if x:\n",
    "            response = requests.get(f\"https://api.spacexdata.com/v4/rockets/{x}\").json()\n",
    "            BoosterVersion.append(response.get('name', 'Unknown'))  # Using .get() to avoid key errors\n",
    "\n",
    "def getLaunchSite(data):\n",
    "    for x in data['launchpad']:\n",
    "        if x:\n",
    "            response = requests.get(f\"https://api.spacexdata.com/v4/launchpads/{x}\").json()\n",
    "            Longitude.append(response.get('longitude', None))\n",
    "            Latitude.append(response.get('latitude', None))\n",
    "            LaunchSite.append(response.get('name', 'Unknown'))\n",
    "\n",
    "def getPayloadData(data):\n",
    "    for load in data['payloads']:\n",
    "        if load:\n",
    "            response = requests.get(f\"https://api.spacexdata.com/v4/payloads/{load}\").json()\n",
    "            PayloadMass.append(response.get('mass_kg', None))\n",
    "            Orbit.append(response.get('orbit', 'Unknown'))\n",
    "\n",
    "def getCoreData(data):\n",
    "    for core in data['cores']:\n",
    "        if core['core'] != None:\n",
    "            response = requests.get(f\"https://api.spacexdata.com/v4/cores/{core['core']}\").json()\n",
    "            Block.append(response.get('block', None))\n",
    "            ReusedCount.append(response.get('reuse_count', None))\n",
    "            Serial.append(response.get('serial', 'Unknown'))\n",
    "        else:\n",
    "            Block.append(None)\n",
    "            ReusedCount.append(None)\n",
    "            Serial.append(None)\n",
    "        Outcome.append(str(core.get('landing_success', 'None')) + ' ' + str(core.get('landing_type', 'None')))\n",
    "        Flights.append(core.get('flight', None))\n",
    "        GridFins.append(core.get('gridfins', None))\n",
    "        Reused.append(core.get('reused', None))\n",
    "        Legs.append(core.get('legs', None))\n",
    "        LandingPad.append(core.get('landpad', 'Unknown'))\n"
   ]
  },
  {
   "cell_type": "code",
   "execution_count": 7,
   "id": "e869e073-7b41-4df6-9386-b8f118b1fa40",
   "metadata": {},
   "outputs": [],
   "source": [
    "\n",
    "# Fetch the SpaceX launches data\n",
    "spacex_url = \"https://api.spacexdata.com/v4/launches/past\"\n",
    "response = requests.get(spacex_url)\n",
    "data = response.json()\n"
   ]
  },
  {
   "cell_type": "code",
   "execution_count": 8,
   "id": "6a35a023-88ca-4333-865f-e5d750fe9888",
   "metadata": {},
   "outputs": [],
   "source": [
    "\n",
    "# Normalize the JSON data into a DataFrame\n",
    "df = pd.json_normalize(data)\n",
    "\n",
    "# Subset the dataframe keeping only the desired columns\n",
    "df = df[['rocket', 'payloads', 'launchpad', 'cores', 'flight_number', 'date_utc']]\n",
    "\n",
    "# Filter out rows with multiple cores or payloads\n",
    "df = df[df['cores'].map(len) == 1]\n",
    "df = df[df['payloads'].map(len) == 1]\n",
    "\n",
    "# Extract the single values in the list and replace the feature\n",
    "df['cores'] = df['cores'].map(lambda x: x[0])\n",
    "df['payloads'] = df['payloads'].map(lambda x: x[0])\n",
    "\n",
    "# Convert the date_utc to a datetime datatype and extract the date\n",
    "df['date'] = pd.to_datetime(df['date_utc']).dt.date\n",
    "\n",
    "# Restrict the dates of the launches\n",
    "df = df[df['date'] <= datetime.date(2020, 11, 13)]\n"
   ]
  },
  {
   "cell_type": "code",
   "execution_count": 9,
   "id": "020cad51-02d8-4116-99a1-fc73adbeca53",
   "metadata": {},
   "outputs": [],
   "source": [
    "\n",
    "# Initialize lists to store extracted data\n",
    "BoosterVersion = []\n",
    "PayloadMass = []\n",
    "Orbit = []\n",
    "LaunchSite = []\n",
    "Outcome = []\n",
    "Flights = []\n",
    "GridFins = []\n",
    "Reused = []\n",
    "Legs = []\n",
    "LandingPad = []\n",
    "Block = []\n",
    "ReusedCount = []\n",
    "Serial = []\n",
    "Longitude = []\n",
    "Latitude = []\n"
   ]
  },
  {
   "cell_type": "code",
   "execution_count": null,
   "id": "32e6f307-c069-4db2-bbdf-2515f24f0d2f",
   "metadata": {},
   "outputs": [],
   "source": [
    "# Call functions to populate the lists\n",
    "getBoosterVersion(df)\n",
    "getLaunchSite(df)\n",
    "getPayloadData(df)\n",
    "getCoreData(df)\n"
   ]
  },
  {
   "cell_type": "code",
   "execution_count": null,
   "id": "255de1db-f97c-4f03-83b5-144745b47ab9",
   "metadata": {},
   "outputs": [],
   "source": [
    "# Check the first 5 booster versions (as an example)\n",
    "print(BoosterVersion[0:5])\n"
   ]
  },
  {
   "cell_type": "code",
   "execution_count": null,
   "id": "77bc2df2-2cf3-47c7-967e-f7b537772824",
   "metadata": {},
   "outputs": [],
   "source": [
    "# Create a dictionary with the extracted data\n",
    "launch_dict = {\n",
    "    'FlightNumber': list(df['flight_number']),\n",
    "    'Date': list(df['date']),\n",
    "    'BoosterVersion': BoosterVersion,\n",
    "    'PayloadMass': PayloadMass,\n",
    "    'Orbit': Orbit,\n",
    "    'LaunchSite': LaunchSite,\n",
    "    'Outcome': Outcome,\n",
    "    'Flights': Flights,\n",
    "    'GridFins': GridFins,\n",
    "    'Reused': Reused,\n",
    "    'Legs': Legs,\n",
    "    'LandingPad': LandingPad,\n",
    "    'Block': Block,\n",
    "    'ReusedCount': ReusedCount,\n",
    "    'Serial': Serial,\n",
    "    'Longitude': Longitude,\n",
    "    'Latitude': Latitude\n",
    "}"
   ]
  },
  {
   "cell_type": "code",
   "execution_count": null,
   "id": "57383b11-38ec-42e0-ad89-844a1b6784cf",
   "metadata": {},
   "outputs": [],
   "source": [
    "# Convert the dictionary into a DataFrame for easier analysis\n",
    "launch_df = pd.DataFrame(launch_dict)\n",
    "launch_df.head()  # Display the first few rows of the final DataFrame\n"
   ]
  },
  {
   "cell_type": "code",
   "execution_count": null,
   "id": "da86fb08-c570-47f0-b246-eca9ce9355b3",
   "metadata": {},
   "outputs": [],
   "source": [
    "# Convert the launch_dict into a DataFrame\n",
    "launch_df = pd.DataFrame(launch_dict)\n",
    "\n",
    "# Display the first few rows of the DataFrame to verify the data\n",
    "print(launch_df.head())\n"
   ]
  },
  {
   "cell_type": "code",
   "execution_count": null,
   "id": "b6584966-24fc-4c5e-9aca-ca7dad4acc56",
   "metadata": {},
   "outputs": [],
   "source": [
    "# Create the DataFrame from launch_dict\n",
    "launch_df = pd.DataFrame(launch_dict)\n",
    "\n",
    "# Show the first few rows of the DataFrame\n",
    "print(launch_df.head())\n"
   ]
  },
  {
   "cell_type": "code",
   "execution_count": null,
   "id": "66bf8d46-eb26-43c6-8d95-9ee7a965c6e6",
   "metadata": {},
   "outputs": [],
   "source": [
    "# Filter the DataFrame to keep only Falcon 9 launches\n",
    "data_falcon9 = launch_df[launch_df['BoosterVersion'] == 'Falcon 9']\n",
    "\n",
    "# Display the first few rows of the filtered DataFrame to verify\n",
    "print(data_falcon9.head())\n"
   ]
  },
  {
   "cell_type": "code",
   "execution_count": null,
   "id": "34172c37-24cf-4326-8cd1-02b385c50b12",
   "metadata": {},
   "outputs": [],
   "source": [
    "data_falcon9.loc[:,'FlightNumber'] = list(range(1, data_falcon9.shape[0]+1))\n",
    "data_falcon9"
   ]
  },
  {
   "cell_type": "code",
   "execution_count": null,
   "id": "2226ad93-50bd-45cc-9213-e4a8b908fccb",
   "metadata": {},
   "outputs": [],
   "source": [
    "#Data Wrangling\n",
    "data_falcon9.isnull().sum()"
   ]
  },
  {
   "cell_type": "code",
   "execution_count": null,
   "id": "364663b1-f413-41ee-ace3-22d2855a83a2",
   "metadata": {},
   "outputs": [],
   "source": [
    "# Import NumPy if not already imported\n",
    "import numpy as np\n",
    "\n",
    "# Calculate the mean of the PayloadMass column\n",
    "mean_payload_mass = data_falcon9['PayloadMass'].mean()\n",
    "\n",
    "# Print the calculated mean\n",
    "print(\"Mean Payload Mass:\", mean_payload_mass)\n",
    "\n",
    "# Replace np.nan values in the PayloadMass column with the calculated mean\n",
    "data_falcon9['PayloadMass'] = data_falcon9['PayloadMass'].replace(np.nan, mean_payload_mass)\n",
    "\n",
    "# Check if there are any remaining missing values in the PayloadMass column\n",
    "missing_values_count = data_falcon9['PayloadMass'].isna().sum()\n",
    "print(\"Remaining missing values in PayloadMass:\", missing_values_count)\n"
   ]
  },
  {
   "cell_type": "code",
   "execution_count": null,
   "id": "5fd1150d-34df-4cf8-bce2-919ab3332eeb",
   "metadata": {
    "tags": []
   },
   "outputs": [],
   "source": [
    "# Import NumPy if not already imported\n",
    "import numpy as np\n",
    "\n",
    "# Calculate the mean value of the PayloadMass column\n",
    "mean_payload_mass = data_falcon9['PayloadMass'].mean()\n",
    "\n",
    "# Print the calculated mean value\n",
    "print(\"Mean Payload Mass:\", mean_payload_mass)\n",
    "\n",
    "# Replace np.nan values in the PayloadMass column with the calculated mean value\n",
    "data_falcon9['PayloadMass'].fillna(mean_payload_mass, inplace=True)\n",
    "\n",
    "# Verify that there are no more missing values in the PayloadMass column\n",
    "remaining_missing_values = data_falcon9['PayloadMass'].isna().sum()\n",
    "print(\"Remaining missing values in PayloadMass:\", remaining_missing_values)\n"
   ]
  }
 ],
 "metadata": {
  "kernelspec": {
   "display_name": "Python",
   "language": "python",
   "name": "conda-env-python-py"
  },
  "language_info": {
   "codemirror_mode": {
    "name": "ipython",
    "version": 3
   },
   "file_extension": ".py",
   "mimetype": "text/x-python",
   "name": "python",
   "nbconvert_exporter": "python",
   "pygments_lexer": "ipython3",
   "version": "3.7.12"
  }
 },
 "nbformat": 4,
 "nbformat_minor": 5
}
